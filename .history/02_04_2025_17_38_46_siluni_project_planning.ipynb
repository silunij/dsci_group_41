{
 "cells": [
  {
   "cell_type": "markdown",
   "id": "2da762a3-0651-49a9-9a6b-41e0446286e8",
   "metadata": {},
   "source": [
    "# Data Science Project Final Report"
   ]
  },
  {
   "cell_type": "markdown",
   "id": "2b55f4f5-8901-4531-9930-b133650d0b89",
   "metadata": {},
   "source": [
    "## Introduction"
   ]
  },
  {
   "cell_type": "markdown",
   "id": "9add8503-ba9b-4d63-b8f8-b74db30f36e0",
   "metadata": {},
   "source": [
    "A research group in Computer Science UBC collected a data of people playing Minecraft, which records player's action as they navigate through the Minecraft server. \n",
    "\n",
    "In this project I would like to address the question whether the age of a person and the played hours can predict the person's experience. I will use knn classification to predict the experience of a person. I think this method will be appropriate as the value that we're predicting is a categorical value, so the knn spec model will be used. A potential weakness of this method would be that since the answer is predicted by the closest neightbours to it, theres a possibility of inaccuracy in the prediction. I will split the data 75% and 25% for the training and testing tests respectively. Splitting the data will be done after exploring the data. I will use 5fold cross validation on the training data.\n",
    "\n",
    "In the player.csv dataset, there are 196 observations of players with their personal details such as name, age etc, with 7 columns(variables) including gaming details such as experience level, hashed email etc. \n",
    "The columns are as follows.\n",
    "\n",
    "- Variables and Types\n",
    "  1) experience = factor -> Player's level of experience, categorized as \"Pro\", \"Veteran\", \"Amateur\", \"Regular\" and \"Beginner\"\n",
    "  2) subscribe = logical -> Indicates whether the player is subscribed (TRUE) or not (FALSE) to game-related newsletter\n",
    "  3) hashedEmail = character -> A hashed representation of the player's email\n",
    "  4) played_hours = double -> The number of hours the player has played\n",
    "  5) name = character -> Player's name\n",
    "  6) gender = factor -> Player's gender\n",
    "  7) Age = integer -> Player's age in years\n",
    "- Issues and Potential Issues in Dataset\n",
    "  1) The age column has missing values.\n",
    "  2) The hashed email values are not directly available for use as it is hashed."
   ]
  },
  {
   "cell_type": "code",
   "execution_count": null,
   "id": "d70d0c42-4d40-4823-b4a3-6cb26b9df906",
   "metadata": {},
   "outputs": [],
   "source": [
    "library(repr)\n",
    "library(tidyverse)\n",
    "library(ggplot)"
   ]
  },
  {
   "cell_type": "code",
   "execution_count": null,
   "id": "ce5ef811-cbdf-4b83-bc49-66cbd0d350da",
   "metadata": {},
   "outputs": [],
   "source": [
    "player_data = read_csv(\"https://raw.githubusercontent.com/silunij/dsci_individual/refs/heads/main/players.csv\")\n",
    "head(player_data)\n",
    "tail(player_data)"
   ]
  },
  {
   "cell_type": "code",
   "execution_count": null,
   "id": "8cc3ba61-eb2a-44ba-a9d2-df02147e84c9",
   "metadata": {},
   "outputs": [],
   "source": [
    "mean_values <- player_data |>\n",
    "    select(played_hours, Age)|>\n",
    "    summarize(mean_hours = mean(played_hours), mean_age = mean(Age, na.rm = TRUE))\n",
    "  mean_values  "
   ]
  },
  {
   "cell_type": "code",
   "execution_count": null,
   "id": "c30b2364-9d2a-4d8f-b59e-d55caa96d9a8",
   "metadata": {},
   "outputs": [],
   "source": [
    "options(repr.plot.width = 8, repr.plot.height = 6)\n",
    "player_plot_1 <- player_data |>\n",
    "        ggplot(aes(x = Age , y = played_hours, color = experience)) + \n",
    "        geom_point() +\n",
    "        xlab(\"Age of a person\")+\n",
    "        ylab(\"No of hours played\")+\n",
    "        labs(colour = \"Experience\" )+\n",
    "        theme(text = element_text(size=20)) # No Answer - remove if you provide an answer\n",
    "player_plot_1"
   ]
  },
  {
   "cell_type": "code",
   "execution_count": null,
   "id": "057fda09-ebcf-493a-ab67-83c0606463df",
   "metadata": {},
   "outputs": [],
   "source": []
  },
  {
   "cell_type": "code",
   "execution_count": null,
   "id": "b1d8ddec-ab9d-4f62-ae7e-3663084a32b0",
   "metadata": {},
   "outputs": [],
   "source": [
    "player_plot_3 <- player_data |>\n",
    "        ggplot(aes(x = experience , y = played_hours)) + \n",
    "        geom_point() +\n",
    "        xlab(\"experience\")+\n",
    "        ylab(\"No of hours played\")+\n",
    "        theme(text = element_text(size=20)) # No Answer - remove if you provide an answer\n",
    "player_plot_3"
   ]
  },
  {
   "cell_type": "code",
   "execution_count": null,
   "id": "7ef19e7b-0691-4ae1-9e40-15e4fa899865",
   "metadata": {},
   "outputs": [],
   "source": [
    "player_plot_4 <- player_data |>\n",
    "        ggplot(aes(x = experience , y = Age)) + \n",
    "        geom_point() +\n",
    "        xlab(\"experience\")+\n",
    "        ylab(\"No of hours played\")+\n",
    "        theme(text = element_text(size=20)) # No Answer - remove if you provide an answer\n",
    "player_plot_4"
   ]
  },
  {
   "cell_type": "markdown",
   "id": "929f1fd6-035d-4df5-a0c4-001616571727",
   "metadata": {},
   "source": [
    "the player_plot_1 shows the graph of age against hours_played and the points are colored according to the experience which is the variable I'm trying to predict here. To make the visualization clearer, I plotted the same graph as a line chart in player_plot_2. It shows what aged people with what experience have the highest experience. The next 2 graphs are no of hours against experience and age against experience to see how many hours of playing is most common for each experience and what the age range for each experience is. "
   ]
  },
  {
   "cell_type": "code",
   "execution_count": null,
   "id": "70c7cbf1-1fb6-4f5b-ae14-0af7cf1dc5ee",
   "metadata": {},
   "outputs": [],
   "source": []
  }
 ],
 "metadata": {
  "kernelspec": {
   "display_name": "R",
   "language": "R",
   "name": "ir"
  },
  "language_info": {
   "codemirror_mode": "r",
   "file_extension": ".r",
   "mimetype": "text/x-r-source",
   "name": "R",
   "pygments_lexer": "r",
   "version": "4.3.3"
  }
 },
 "nbformat": 4,
 "nbformat_minor": 5
}
